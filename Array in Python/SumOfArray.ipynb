{
 "cells": [
  {
   "cell_type": "markdown",
   "id": "5be08363-1db3-46b5-a107-eb11dc0e9164",
   "metadata": {},
   "source": [
    "Python Program to find sum of array:"
   ]
  },
  {
   "cell_type": "code",
   "execution_count": 3,
   "id": "6900d7d4-269b-4ce1-a67c-299fc6e6b680",
   "metadata": {},
   "outputs": [],
   "source": [
    "class Solution:\n",
    "    def sumOfArr(self, ar)->int:\n",
    "        s =0\n",
    "        for i in range(len(ar)):\n",
    "            s = s+ar[i]\n",
    "        return s"
   ]
  },
  {
   "cell_type": "code",
   "execution_count": 4,
   "id": "65786af0-64c8-4495-b535-df4a147f0dac",
   "metadata": {},
   "outputs": [
    {
     "name": "stdout",
     "output_type": "stream",
     "text": [
      "34\n"
     ]
    }
   ],
   "source": [
    "sol = Solution()\n",
    "print(sol.sumOfArr([12, 3, 4, 15]))"
   ]
  },
  {
   "cell_type": "code",
   "execution_count": null,
   "id": "c6d36f0b-5222-4f14-8290-7b79809db567",
   "metadata": {},
   "outputs": [],
   "source": []
  }
 ],
 "metadata": {
  "kernelspec": {
   "display_name": "Python 3 (ipykernel)",
   "language": "python",
   "name": "python3"
  },
  "language_info": {
   "codemirror_mode": {
    "name": "ipython",
    "version": 3
   },
   "file_extension": ".py",
   "mimetype": "text/x-python",
   "name": "python",
   "nbconvert_exporter": "python",
   "pygments_lexer": "ipython3",
   "version": "3.9.12"
  }
 },
 "nbformat": 4,
 "nbformat_minor": 5
}
