{
 "cells": [
  {
   "cell_type": "markdown",
   "id": "64b72e61-096b-4bbf-a5ba-7d27fb6e9e1d",
   "metadata": {},
   "source": [
    "Python Program to find largest element in an array:"
   ]
  },
  {
   "cell_type": "code",
   "execution_count": 5,
   "id": "e0b7a530-778f-4325-9e0a-214724fc9972",
   "metadata": {},
   "outputs": [
    {
     "name": "stdout",
     "output_type": "stream",
     "text": [
      "6\n"
     ]
    }
   ],
   "source": [
    "from typing import List #for python version >3.9 we need to import list\n",
    "class Solution:\n",
    "    def maxVal(self, n: List[int])->int:\n",
    "        max = 0\n",
    "        for i in range(len(n)):\n",
    "            if max<n[i]:\n",
    "                max = n[i]\n",
    "        return max\n",
    "n = [1,3,5,6]\n",
    "soln = Solution()\n",
    "print(soln.maxVal(n))"
   ]
  },
  {
   "cell_type": "code",
   "execution_count": null,
   "id": "eab9eaef-446d-4fca-adb3-8c0004c903d5",
   "metadata": {},
   "outputs": [],
   "source": []
  }
 ],
 "metadata": {
  "kernelspec": {
   "display_name": "Python 3 (ipykernel)",
   "language": "python",
   "name": "python3"
  },
  "language_info": {
   "codemirror_mode": {
    "name": "ipython",
    "version": 3
   },
   "file_extension": ".py",
   "mimetype": "text/x-python",
   "name": "python",
   "nbconvert_exporter": "python",
   "pygments_lexer": "ipython3",
   "version": "3.9.12"
  }
 },
 "nbformat": 4,
 "nbformat_minor": 5
}
