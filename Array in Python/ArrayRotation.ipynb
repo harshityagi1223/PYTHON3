{
 "cells": [
  {
   "cell_type": "markdown",
   "id": "89f1c7e8-3f38-498c-8867-626efb45a815",
   "metadata": {},
   "source": [
    "Python Program for array rotation:"
   ]
  },
  {
   "cell_type": "code",
   "execution_count": 12,
   "id": "596f4bbb-cb0a-4ef3-ab5a-72065137fd88",
   "metadata": {},
   "outputs": [],
   "source": [
    "from typing import List\n",
    "class Solution:\n",
    "    def rotate(self, nums: List[int], k: int) -> List[int]:\n",
    "        end =  len(nums)-1\n",
    "        k = k%len(nums)\n",
    "        if(len(nums)>1):\n",
    "            self.reverse(nums,0,end)\n",
    "            self.reverse(nums,0,k-1)\n",
    "            self.reverse(nums,k,end)\n",
    "        return nums\n",
    "    def reverse(self,nums:List,beg:int, end:int):\n",
    "            temp = 0\n",
    "            while beg<end:\n",
    "                temp = nums[beg]\n",
    "                nums[beg]=nums[end]\n",
    "                nums[end]=temp\n",
    "                beg = beg +1\n",
    "                end = end -1"
   ]
  },
  {
   "cell_type": "code",
   "execution_count": 13,
   "id": "327e0608-a969-4e4c-9503-fe9e7488b504",
   "metadata": {},
   "outputs": [],
   "source": [
    "soln = Solution()\n",
    "n = [1,2,3,4,5,6,7]"
   ]
  },
  {
   "cell_type": "code",
   "execution_count": 14,
   "id": "b0bde083-f595-48bc-9aa4-aa6617d6982d",
   "metadata": {},
   "outputs": [
    {
     "name": "stdout",
     "output_type": "stream",
     "text": [
      "[5, 6, 7, 1, 2, 3, 4]\n"
     ]
    }
   ],
   "source": [
    "print(soln.rotate(n,3))"
   ]
  },
  {
   "cell_type": "code",
   "execution_count": null,
   "id": "4aee53fe-ae50-4203-a533-46b3838cfb2f",
   "metadata": {},
   "outputs": [],
   "source": []
  }
 ],
 "metadata": {
  "kernelspec": {
   "display_name": "Python 3 (ipykernel)",
   "language": "python",
   "name": "python3"
  },
  "language_info": {
   "codemirror_mode": {
    "name": "ipython",
    "version": 3
   },
   "file_extension": ".py",
   "mimetype": "text/x-python",
   "name": "python",
   "nbconvert_exporter": "python",
   "pygments_lexer": "ipython3",
   "version": "3.9.12"
  }
 },
 "nbformat": 4,
 "nbformat_minor": 5
}
