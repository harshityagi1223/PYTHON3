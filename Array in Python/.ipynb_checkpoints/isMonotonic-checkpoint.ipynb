{
 "cells": [
  {
   "cell_type": "markdown",
   "id": "dee256d7-807a-46f8-9702-e9716144bd95",
   "metadata": {},
   "source": [
    "Python Program to check if given array is Monotonic:"
   ]
  },
  {
   "cell_type": "markdown",
   "id": "5763265c-4ff2-4998-8c96-2b7fba41d525",
   "metadata": {},
   "source": [
    "An array is monotonic if it is either monotone increasing or monotone decreasing."
   ]
  },
  {
   "cell_type": "markdown",
   "id": "32a54fef-c8ae-4ca3-a883-97574711ddad",
   "metadata": {},
   "source": [
    "Input : 6 5 4 4\n",
    "Output : true\n",
    "\n",
    "Input : 5 15 20 10\n",
    "Output : false"
   ]
  },
  {
   "cell_type": "code",
   "execution_count": 19,
   "id": "2551c58c-855b-4a36-9a72-0f1dddf4db5a",
   "metadata": {},
   "outputs": [],
   "source": [
    "from typing import List\n",
    "class Solution:\n",
    "    def isMonotonic(self, num : List[int])->bool:\n",
    "        diff = abs(num[0]-num[1])\n",
    "        for i in range(len(num)-1):\n",
    "            if( abs(num[i]-num[i+1]) != diff and abs(num[i]-num[i+1]) !=0):\n",
    "                return False\n",
    "        return True\n",
    "                "
   ]
  },
  {
   "cell_type": "code",
   "execution_count": 20,
   "id": "d914867f-ac83-49a4-9741-fbf3565cd1b0",
   "metadata": {},
   "outputs": [],
   "source": [
    "soln = Solution()\n",
    "n =[6,5,4,4]"
   ]
  },
  {
   "cell_type": "code",
   "execution_count": 21,
   "id": "5fa4739a-f5e7-4c46-a03d-c3648deb462e",
   "metadata": {},
   "outputs": [
    {
     "name": "stdout",
     "output_type": "stream",
     "text": [
      "True\n"
     ]
    }
   ],
   "source": [
    "print(soln.isMonotonic(n))"
   ]
  },
  {
   "cell_type": "code",
   "execution_count": 22,
   "id": "6199b247-0eee-4d0d-b353-5815e380a6cb",
   "metadata": {},
   "outputs": [],
   "source": [
    "nm = [5,10,20,15]"
   ]
  },
  {
   "cell_type": "code",
   "execution_count": 23,
   "id": "fe8ec014-e196-4eef-ab6b-f72eb530afd3",
   "metadata": {},
   "outputs": [
    {
     "name": "stdout",
     "output_type": "stream",
     "text": [
      "False\n"
     ]
    }
   ],
   "source": [
    "print(soln.isMonotonic(nm))"
   ]
  },
  {
   "cell_type": "code",
   "execution_count": null,
   "id": "394de422-9278-4b9b-82ae-2c2f1a5f2c81",
   "metadata": {},
   "outputs": [],
   "source": []
  }
 ],
 "metadata": {
  "kernelspec": {
   "display_name": "Python 3 (ipykernel)",
   "language": "python",
   "name": "python3"
  },
  "language_info": {
   "codemirror_mode": {
    "name": "ipython",
    "version": 3
   },
   "file_extension": ".py",
   "mimetype": "text/x-python",
   "name": "python",
   "nbconvert_exporter": "python",
   "pygments_lexer": "ipython3",
   "version": "3.9.12"
  }
 },
 "nbformat": 4,
 "nbformat_minor": 5
}
