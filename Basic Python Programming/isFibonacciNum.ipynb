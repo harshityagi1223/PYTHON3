{
 "cells": [
  {
   "cell_type": "markdown",
   "id": "baaf21c7-6847-465c-b1ab-598eeea37a92",
   "metadata": {},
   "source": [
    "Python Program for How to check if a given number is Fibonacci number?:"
   ]
  },
  {
   "cell_type": "code",
   "execution_count": 16,
   "id": "c95bf8c0-d1b8-4452-b511-b20da6a16a72",
   "metadata": {},
   "outputs": [],
   "source": [
    "import math\n",
    "class Solution:\n",
    "    def isPerfectSquare(self, n:int)->bool:\n",
    "        s =int(math.sqrt(n))\n",
    "        return (n == s**2)\n",
    "    def isFib(self,n : int)->bool:\n",
    "        return self.isPerfectSquare(5*n*n +4) or self.isPerfectSquare(5*n*n -4)"
   ]
  },
  {
   "cell_type": "code",
   "execution_count": 17,
   "id": "a0c779b9-8322-48fc-9b31-914b59884b22",
   "metadata": {},
   "outputs": [
    {
     "name": "stdout",
     "output_type": "stream",
     "text": [
      "False\n"
     ]
    }
   ],
   "source": [
    "soln = Solution()\n",
    "print(soln.isFib(n=4))"
   ]
  },
  {
   "cell_type": "code",
   "execution_count": null,
   "id": "05d058a6-3392-469e-b1f8-5570261bafd7",
   "metadata": {},
   "outputs": [],
   "source": []
  }
 ],
 "metadata": {
  "kernelspec": {
   "display_name": "Python 3 (ipykernel)",
   "language": "python",
   "name": "python3"
  },
  "language_info": {
   "codemirror_mode": {
    "name": "ipython",
    "version": 3
   },
   "file_extension": ".py",
   "mimetype": "text/x-python",
   "name": "python",
   "nbconvert_exporter": "python",
   "pygments_lexer": "ipython3",
   "version": "3.9.12"
  }
 },
 "nbformat": 4,
 "nbformat_minor": 5
}
