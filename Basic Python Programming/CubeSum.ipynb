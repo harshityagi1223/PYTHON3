{
 "cells": [
  {
   "cell_type": "markdown",
   "id": "0e02e460-d773-42e6-9320-533ffd14c3e5",
   "metadata": {},
   "source": [
    "Python Program for cube sum of first n natural numbers:\n"
   ]
  },
  {
   "cell_type": "code",
   "execution_count": 2,
   "id": "14313662-9697-4879-aaf8-a52d974862a8",
   "metadata": {},
   "outputs": [],
   "source": [
    "class Solution:\n",
    "    def cube(n:int)->int:\n",
    "        s = 0\n",
    "        for i in range(1,n+1):\n",
    "            s = s+ i**3\n",
    "        return s"
   ]
  },
  {
   "cell_type": "code",
   "execution_count": 3,
   "id": "2497aa2c-4aa5-49fe-9280-0a0971767e58",
   "metadata": {},
   "outputs": [
    {
     "name": "stdout",
     "output_type": "stream",
     "text": [
      "225\n"
     ]
    }
   ],
   "source": [
    "print(Solution.cube(5))"
   ]
  },
  {
   "cell_type": "code",
   "execution_count": null,
   "id": "0d455787-461d-4615-9b3e-bfec5418d604",
   "metadata": {},
   "outputs": [],
   "source": []
  }
 ],
 "metadata": {
  "kernelspec": {
   "display_name": "Python 3 (ipykernel)",
   "language": "python",
   "name": "python3"
  },
  "language_info": {
   "codemirror_mode": {
    "name": "ipython",
    "version": 3
   },
   "file_extension": ".py",
   "mimetype": "text/x-python",
   "name": "python",
   "nbconvert_exporter": "python",
   "pygments_lexer": "ipython3",
   "version": "3.9.12"
  }
 },
 "nbformat": 4,
 "nbformat_minor": 5
}
