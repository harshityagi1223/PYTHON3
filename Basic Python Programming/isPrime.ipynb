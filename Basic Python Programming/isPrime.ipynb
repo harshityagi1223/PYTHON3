{
 "cells": [
  {
   "cell_type": "markdown",
   "id": "4b1a04a6-6996-40d2-b308-1c7fd887d928",
   "metadata": {},
   "source": [
    "Python program to check whether a number is Prime or not:"
   ]
  },
  {
   "cell_type": "code",
   "execution_count": 1,
   "id": "dc268407-a238-4c64-b6a8-c478f304c0ab",
   "metadata": {},
   "outputs": [],
   "source": [
    "class Solution:\n",
    "    def isPrime(self,n:int)->bool:\n",
    "        if n>1:\n",
    "            for i in range(2, int(n/2)+1):\n",
    "                if n%i==0:\n",
    "                       break\n",
    "            else:\n",
    "                return True\n",
    "        return False"
   ]
  },
  {
   "cell_type": "code",
   "execution_count": 2,
   "id": "64e22594-0b9f-4afe-952a-1329c480b614",
   "metadata": {},
   "outputs": [
    {
     "name": "stdout",
     "output_type": "stream",
     "text": [
      "True\n"
     ]
    }
   ],
   "source": [
    "soln = Solution()\n",
    "print(soln.isPrime(2))"
   ]
  },
  {
   "cell_type": "code",
   "execution_count": 3,
   "id": "eb323485-4f1b-4ab8-9260-5ece557e77ae",
   "metadata": {},
   "outputs": [
    {
     "name": "stdout",
     "output_type": "stream",
     "text": [
      "False\n"
     ]
    }
   ],
   "source": [
    "print(soln.isPrime(6))"
   ]
  },
  {
   "cell_type": "code",
   "execution_count": null,
   "id": "cdc2f78a-8279-493a-b037-b46a7765a308",
   "metadata": {},
   "outputs": [],
   "source": []
  }
 ],
 "metadata": {
  "kernelspec": {
   "display_name": "Python 3 (ipykernel)",
   "language": "python",
   "name": "python3"
  },
  "language_info": {
   "codemirror_mode": {
    "name": "ipython",
    "version": 3
   },
   "file_extension": ".py",
   "mimetype": "text/x-python",
   "name": "python",
   "nbconvert_exporter": "python",
   "pygments_lexer": "ipython3",
   "version": "3.9.12"
  }
 },
 "nbformat": 4,
 "nbformat_minor": 5
}
