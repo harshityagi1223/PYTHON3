{
 "cells": [
  {
   "cell_type": "markdown",
   "id": "9e47d3f2-0033-4fd6-817a-5ccda400e423",
   "metadata": {},
   "source": [
    "Python Program to find area of circle:"
   ]
  },
  {
   "cell_type": "code",
   "execution_count": 1,
   "id": "2a07858a-d180-4d59-b329-9cca2eda46d7",
   "metadata": {},
   "outputs": [],
   "source": [
    "class Solution:\n",
    "    def area(r:int)->int:\n",
    "        return (3.14*r*r)"
   ]
  },
  {
   "cell_type": "code",
   "execution_count": 2,
   "id": "9d02841b-1a8b-409c-8b79-8b61ceaa1925",
   "metadata": {},
   "outputs": [
    {
     "name": "stdout",
     "output_type": "stream",
     "text": [
      "28.259999999999998\n"
     ]
    }
   ],
   "source": [
    "print(Solution.area(3))"
   ]
  },
  {
   "cell_type": "code",
   "execution_count": null,
   "id": "ce8e6073-d722-4e77-b9d4-f38e68038c06",
   "metadata": {},
   "outputs": [],
   "source": []
  }
 ],
 "metadata": {
  "kernelspec": {
   "display_name": "Python 3 (ipykernel)",
   "language": "python",
   "name": "python3"
  },
  "language_info": {
   "codemirror_mode": {
    "name": "ipython",
    "version": 3
   },
   "file_extension": ".py",
   "mimetype": "text/x-python",
   "name": "python",
   "nbconvert_exporter": "python",
   "pygments_lexer": "ipython3",
   "version": "3.9.12"
  }
 },
 "nbformat": 4,
 "nbformat_minor": 5
}
