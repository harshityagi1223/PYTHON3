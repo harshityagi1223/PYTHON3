{
 "cells": [
  {
   "cell_type": "markdown",
   "id": "28d3d004-ffbf-46e5-aa7b-2efce7e9b253",
   "metadata": {},
   "source": [
    "Python Program to find Compound Interest:\n"
   ]
  },
  {
   "cell_type": "markdown",
   "id": "b64be410-fcb6-4684-96b9-e1e9e6d6055e",
   "metadata": {},
   "source": [
    "C.I. = P*(1+(R/n))**nt"
   ]
  },
  {
   "cell_type": "code",
   "execution_count": 18,
   "id": "4b365826-7254-4652-8f2e-1c7fb7c7ebd4",
   "metadata": {},
   "outputs": [],
   "source": [
    "import math\n",
    "class Solution:\n",
    "    def CI(p:int, R:int, n:int, t:int)->int:\n",
    "        return p*(math.pow((1+R/n),(n*t)))"
   ]
  },
  {
   "cell_type": "code",
   "execution_count": 20,
   "id": "6e3e05be-4385-4802-9b2e-ccd5077ab82f",
   "metadata": {},
   "outputs": [
    {
     "name": "stdout",
     "output_type": "stream",
     "text": [
      "8235.0474884514\n"
     ]
    }
   ],
   "source": [
    "print(Solution.CI(5000,0.05,12,10))"
   ]
  },
  {
   "cell_type": "code",
   "execution_count": null,
   "id": "77aa5c2b-b262-4ebf-828f-39e06cc40e63",
   "metadata": {},
   "outputs": [],
   "source": []
  }
 ],
 "metadata": {
  "kernelspec": {
   "display_name": "Python 3 (ipykernel)",
   "language": "python",
   "name": "python3"
  },
  "language_info": {
   "codemirror_mode": {
    "name": "ipython",
    "version": 3
   },
   "file_extension": ".py",
   "mimetype": "text/x-python",
   "name": "python",
   "nbconvert_exporter": "python",
   "pygments_lexer": "ipython3",
   "version": "3.9.12"
  }
 },
 "nbformat": 4,
 "nbformat_minor": 5
}
