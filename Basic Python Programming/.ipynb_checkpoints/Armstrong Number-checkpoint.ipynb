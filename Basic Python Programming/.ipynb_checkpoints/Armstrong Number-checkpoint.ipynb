{
 "cells": [
  {
   "cell_type": "markdown",
   "id": "1e4e0cca-5a27-433d-99bc-d791fcb2261c",
   "metadata": {},
   "source": [
    "Python program to check Armstrong Number:"
   ]
  },
  {
   "cell_type": "code",
   "execution_count": 19,
   "id": "316eeda1-c895-4605-aee9-79e00dc08bc7",
   "metadata": {},
   "outputs": [],
   "source": [
    "import math\n",
    "class Solution:\n",
    "    def isArmstrongNumber(n:int)->bool:\n",
    "        count = int(math.log10(n)+1)\n",
    "        temp = n\n",
    "        s = 0\n",
    "        r = 0\n",
    "        while(n >0):\n",
    "            r = n%10\n",
    "            s =s + math.pow(r,count)\n",
    "            n = n//10\n",
    "        if s == temp:\n",
    "            return True\n",
    "        else:\n",
    "            return False"
   ]
  },
  {
   "cell_type": "code",
   "execution_count": 20,
   "id": "6732ac49-5507-4dea-a7b3-a1f06826d6ad",
   "metadata": {},
   "outputs": [
    {
     "name": "stdout",
     "output_type": "stream",
     "text": [
      "True\n"
     ]
    }
   ],
   "source": [
    "print(Solution.isArmstrongNumber(153))"
   ]
  },
  {
   "cell_type": "code",
   "execution_count": null,
   "id": "4c96c898-1c10-4714-95fd-48062608e6bf",
   "metadata": {},
   "outputs": [],
   "source": []
  }
 ],
 "metadata": {
  "kernelspec": {
   "display_name": "Python 3 (ipykernel)",
   "language": "python",
   "name": "python3"
  },
  "language_info": {
   "codemirror_mode": {
    "name": "ipython",
    "version": 3
   },
   "file_extension": ".py",
   "mimetype": "text/x-python",
   "name": "python",
   "nbconvert_exporter": "python",
   "pygments_lexer": "ipython3",
   "version": "3.9.12"
  }
 },
 "nbformat": 4,
 "nbformat_minor": 5
}
