{
 "cells": [
  {
   "cell_type": "markdown",
   "id": "67d6b03a-9c20-4be7-9775-c78c36c6c7e7",
   "metadata": {},
   "source": [
    "Python Program for Sum of squares of first n natural numbers:"
   ]
  },
  {
   "cell_type": "code",
   "execution_count": 9,
   "id": "84cfd1ea-4c60-4b1c-8a20-719d23c01e0c",
   "metadata": {},
   "outputs": [],
   "source": [
    "class Solution:\n",
    "    def sqrSum(n : int)->int:\n",
    "        sum = 0\n",
    "        for i in range(1,n+1):\n",
    "            sum = sum+ (i**2)\n",
    "        return sum"
   ]
  },
  {
   "cell_type": "code",
   "execution_count": 10,
   "id": "6ee91528-0e70-4a7a-8f1a-98f1db13f305",
   "metadata": {},
   "outputs": [
    {
     "name": "stdout",
     "output_type": "stream",
     "text": [
      "55\n"
     ]
    }
   ],
   "source": [
    "print(Solution.sqrSum(5))"
   ]
  }
 ],
 "metadata": {
  "kernelspec": {
   "display_name": "Python 3 (ipykernel)",
   "language": "python",
   "name": "python3"
  },
  "language_info": {
   "codemirror_mode": {
    "name": "ipython",
    "version": 3
   },
   "file_extension": ".py",
   "mimetype": "text/x-python",
   "name": "python",
   "nbconvert_exporter": "python",
   "pygments_lexer": "ipython3",
   "version": "3.9.12"
  }
 },
 "nbformat": 4,
 "nbformat_minor": 5
}
