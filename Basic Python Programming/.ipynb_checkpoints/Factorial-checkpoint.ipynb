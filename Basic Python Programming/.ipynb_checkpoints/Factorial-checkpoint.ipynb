{
 "cells": [
  {
   "cell_type": "markdown",
   "id": "e1edb51e-66a3-46e3-9064-ab6c738974c0",
   "metadata": {},
   "source": [
    "Python Program for factorial of a number:"
   ]
  },
  {
   "cell_type": "code",
   "execution_count": 18,
   "id": "726848a2-e4b0-4af4-8d26-f0e4399271ce",
   "metadata": {},
   "outputs": [],
   "source": [
    "class Solution:\n",
    "    def fact(n:int)->int:\n",
    "        temp =1\n",
    "        for i in range(1,n+1):\n",
    "            temp = temp*i\n",
    "        return temp"
   ]
  },
  {
   "cell_type": "code",
   "execution_count": 20,
   "id": "a4bc3114-aec3-4e66-9e26-9964abb67f18",
   "metadata": {},
   "outputs": [
    {
     "name": "stdout",
     "output_type": "stream",
     "text": [
      "120\n"
     ]
    }
   ],
   "source": [
    "print(Solution.fact(5))"
   ]
  }
 ],
 "metadata": {
  "kernelspec": {
   "display_name": "Python 3 (ipykernel)",
   "language": "python",
   "name": "python3"
  },
  "language_info": {
   "codemirror_mode": {
    "name": "ipython",
    "version": 3
   },
   "file_extension": ".py",
   "mimetype": "text/x-python",
   "name": "python",
   "nbconvert_exporter": "python",
   "pygments_lexer": "ipython3",
   "version": "3.9.12"
  }
 },
 "nbformat": 4,
 "nbformat_minor": 5
}
