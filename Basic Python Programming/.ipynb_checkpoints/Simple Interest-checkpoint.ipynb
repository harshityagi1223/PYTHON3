{
 "cells": [
  {
   "cell_type": "raw",
   "id": "37b2790e-33db-4d03-a95d-385d016f02ef",
   "metadata": {},
   "source": []
  },
  {
   "cell_type": "raw",
   "id": "c699b74d-e7a4-440a-8944-3b4268da88d3",
   "metadata": {},
   "source": [
    "Python program for Simple Interest:"
   ]
  },
  {
   "cell_type": "markdown",
   "id": "eeb77e31-9d8d-4053-b7a9-c8058de0129e",
   "metadata": {},
   "source": [
    "S.I. = (P*R*T)/100"
   ]
  },
  {
   "cell_type": "code",
   "execution_count": 1,
   "id": "2d080ff5-5c93-4ed6-b6f9-fe0165f84fc0",
   "metadata": {},
   "outputs": [],
   "source": [
    "class Solution:\n",
    "    def simpleInterest(p:int,r:int,t:int)->int:\n",
    "        return (p*r*t)/100"
   ]
  },
  {
   "cell_type": "code",
   "execution_count": 2,
   "id": "77866a5b-60b7-4152-85bd-c0ef4299c2e5",
   "metadata": {},
   "outputs": [
    {
     "name": "stdout",
     "output_type": "stream",
     "text": [
      "10.0\n"
     ]
    }
   ],
   "source": [
    "print(Solution.simpleInterest(10,10,10))"
   ]
  },
  {
   "cell_type": "code",
   "execution_count": null,
   "id": "05fd143f-d018-456f-b017-f3f78b34259b",
   "metadata": {},
   "outputs": [],
   "source": []
  }
 ],
 "metadata": {
  "kernelspec": {
   "display_name": "Python 3 (ipykernel)",
   "language": "python",
   "name": "python3"
  },
  "language_info": {
   "codemirror_mode": {
    "name": "ipython",
    "version": 3
   },
   "file_extension": ".py",
   "mimetype": "text/x-python",
   "name": "python",
   "nbconvert_exporter": "python",
   "pygments_lexer": "ipython3",
   "version": "3.9.12"
  }
 },
 "nbformat": 4,
 "nbformat_minor": 5
}
