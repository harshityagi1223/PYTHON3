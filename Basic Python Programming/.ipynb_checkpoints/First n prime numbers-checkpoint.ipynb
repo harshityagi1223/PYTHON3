{
 "cells": [
  {
   "cell_type": "markdown",
   "id": "a92736fd-7570-42c2-baf2-048e52c2364f",
   "metadata": {},
   "source": [
    "Python program to print all Prime numbers in an Interval:\n"
   ]
  },
  {
   "cell_type": "code",
   "execution_count": 40,
   "id": "63d3d0b7-3b5e-4598-a6d4-6ee4fbfe804d",
   "metadata": {},
   "outputs": [],
   "source": [
    "class Solution:\n",
    "    def isPrime(self,n:int)->bool:\n",
    "        if n>1:\n",
    "            for i in range(2, int(n/2)+1):\n",
    "                if n%i==0:\n",
    "                       break\n",
    "            else:\n",
    "                return True\n",
    "        return False\n",
    "    \n",
    "    def prime(self,x,y):\n",
    "        primeList = []\n",
    "        for i in range(x,y+1):\n",
    "            if self.isPrime(i):\n",
    "                primeList.append(i)\n",
    "        return primeList"
   ]
  },
  {
   "cell_type": "code",
   "execution_count": 41,
   "id": "aac625f5-2520-4f1c-a362-5222a1ace1ac",
   "metadata": {},
   "outputs": [
    {
     "name": "stdout",
     "output_type": "stream",
     "text": [
      "[2, 3, 5, 7]\n"
     ]
    }
   ],
   "source": [
    "soln = Solution()\n",
    "print(Solution.prime(soln,2,7))"
   ]
  },
  {
   "cell_type": "code",
   "execution_count": null,
   "id": "a55c4f28-acfe-472f-b11e-ba1c3494902c",
   "metadata": {},
   "outputs": [],
   "source": []
  }
 ],
 "metadata": {
  "kernelspec": {
   "display_name": "Python 3 (ipykernel)",
   "language": "python",
   "name": "python3"
  },
  "language_info": {
   "codemirror_mode": {
    "name": "ipython",
    "version": 3
   },
   "file_extension": ".py",
   "mimetype": "text/x-python",
   "name": "python",
   "nbconvert_exporter": "python",
   "pygments_lexer": "ipython3",
   "version": "3.9.12"
  }
 },
 "nbformat": 4,
 "nbformat_minor": 5
}
