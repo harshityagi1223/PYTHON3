{
 "cells": [
  {
   "cell_type": "markdown",
   "id": "f05ba278-8542-4790-9fd4-1f3206aa143c",
   "metadata": {},
   "source": [
    "Maximum of two numbers in Python:"
   ]
  },
  {
   "cell_type": "code",
   "execution_count": 1,
   "id": "ba09655d-abda-4187-95a3-f1766217d929",
   "metadata": {},
   "outputs": [],
   "source": [
    "class Solution:\n",
    "    def maximum(a:int, b:int)->int:\n",
    "        if(a>b):\n",
    "            return a\n",
    "        else:\n",
    "            return b"
   ]
  },
  {
   "cell_type": "code",
   "execution_count": 3,
   "id": "b68bdd21-faee-461d-a01d-571785e8eb75",
   "metadata": {},
   "outputs": [
    {
     "name": "stdout",
     "output_type": "stream",
     "text": [
      "17\n"
     ]
    }
   ],
   "source": [
    "print(Solution.maximum(10,17))"
   ]
  },
  {
   "cell_type": "code",
   "execution_count": 4,
   "id": "900e6fe0-58f8-44be-a3e4-7ee3c8a7a5ef",
   "metadata": {},
   "outputs": [
    {
     "name": "stdout",
     "output_type": "stream",
     "text": [
      "10\n"
     ]
    }
   ],
   "source": [
    "print(Solution.maximum(10,0))"
   ]
  },
  {
   "cell_type": "code",
   "execution_count": null,
   "id": "9184dfa8-4821-478a-bd23-591199ca3017",
   "metadata": {},
   "outputs": [],
   "source": []
  }
 ],
 "metadata": {
  "kernelspec": {
   "display_name": "Python 3 (ipykernel)",
   "language": "python",
   "name": "python3"
  },
  "language_info": {
   "codemirror_mode": {
    "name": "ipython",
    "version": 3
   },
   "file_extension": ".py",
   "mimetype": "text/x-python",
   "name": "python",
   "nbconvert_exporter": "python",
   "pygments_lexer": "ipython3",
   "version": "3.9.12"
  }
 },
 "nbformat": 4,
 "nbformat_minor": 5
}
