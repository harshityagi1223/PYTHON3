{
 "cells": [
  {
   "cell_type": "markdown",
   "id": "4e6fc2e3-6fb7-49ba-b106-c61a9659ed42",
   "metadata": {},
   "source": [
    "Python Program to Add two Numbers:"
   ]
  },
  {
   "cell_type": "code",
   "execution_count": 1,
   "id": "e1708086-8c35-403a-b13d-cf0729ecd4e4",
   "metadata": {},
   "outputs": [],
   "source": [
    "class Solution:\n",
    "    def addition(a:int, b:int)->int:\n",
    "        return a+b"
   ]
  },
  {
   "cell_type": "code",
   "execution_count": 4,
   "id": "2145b909-d17d-46f0-9493-fd2eb9b02b2a",
   "metadata": {},
   "outputs": [
    {
     "name": "stdout",
     "output_type": "stream",
     "text": [
      "28\n"
     ]
    }
   ],
   "source": [
    "print(Solution.addition(4,24))"
   ]
  },
  {
   "cell_type": "code",
   "execution_count": null,
   "id": "7304dd06-2a59-4af5-8d76-078379195e96",
   "metadata": {},
   "outputs": [],
   "source": []
  }
 ],
 "metadata": {
  "kernelspec": {
   "display_name": "Python 3 (ipykernel)",
   "language": "python",
   "name": "python3"
  },
  "language_info": {
   "codemirror_mode": {
    "name": "ipython",
    "version": 3
   },
   "file_extension": ".py",
   "mimetype": "text/x-python",
   "name": "python",
   "nbconvert_exporter": "python",
   "pygments_lexer": "ipython3",
   "version": "3.9.12"
  }
 },
 "nbformat": 4,
 "nbformat_minor": 5
}
