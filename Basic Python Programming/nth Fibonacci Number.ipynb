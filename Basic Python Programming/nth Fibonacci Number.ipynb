{
 "cells": [
  {
   "cell_type": "markdown",
   "id": "2db382cd-8f41-4949-9d0b-a43cd3f5d075",
   "metadata": {},
   "source": [
    "Python Program for n-th Fibonacci number:"
   ]
  },
  {
   "cell_type": "code",
   "execution_count": 9,
   "id": "c93718e9-57cf-4438-b1dc-da5a2f973c0a",
   "metadata": {},
   "outputs": [],
   "source": [
    "class Solution:\n",
    "    def fib(self,n:int):\n",
    "        if n<=0:\n",
    "            return \"Wrong Input\"\n",
    "        elif n==1 or n ==2:\n",
    "            return n-1\n",
    "        else:\n",
    "            return self.fib(n-1)+self.fib(n-2)"
   ]
  },
  {
   "cell_type": "code",
   "execution_count": 10,
   "id": "ab3e87d8-3a98-4028-aa77-ab4102a411e1",
   "metadata": {},
   "outputs": [
    {
     "name": "stdout",
     "output_type": "stream",
     "text": [
      "34\n"
     ]
    }
   ],
   "source": [
    "sol =Solution()\n",
    "print(sol.fib(10))"
   ]
  },
  {
   "cell_type": "code",
   "execution_count": null,
   "id": "7a4bb48e-8992-4bae-a45b-7a1567035a7e",
   "metadata": {},
   "outputs": [],
   "source": []
  },
  {
   "cell_type": "code",
   "execution_count": null,
   "id": "ef388a57-059b-4306-874a-8bb00344ed69",
   "metadata": {},
   "outputs": [],
   "source": []
  }
 ],
 "metadata": {
  "kernelspec": {
   "display_name": "Python 3 (ipykernel)",
   "language": "python",
   "name": "python3"
  },
  "language_info": {
   "codemirror_mode": {
    "name": "ipython",
    "version": 3
   },
   "file_extension": ".py",
   "mimetype": "text/x-python",
   "name": "python",
   "nbconvert_exporter": "python",
   "pygments_lexer": "ipython3",
   "version": "3.9.12"
  }
 },
 "nbformat": 4,
 "nbformat_minor": 5
}
