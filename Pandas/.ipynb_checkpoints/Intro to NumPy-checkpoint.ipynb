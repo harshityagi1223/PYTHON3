{
 "cells": [
  {
   "cell_type": "markdown",
   "id": "61324192",
   "metadata": {},
   "source": [
    "    An intro to NumPy:"
   ]
  },
  {
   "cell_type": "markdown",
   "id": "0173549c",
   "metadata": {},
   "source": [
    "- used by Pandas for datastructures\n",
    "- very quick operations\n",
    "- smaller memory foot print\n",
    "- better performance"
   ]
  },
  {
   "cell_type": "code",
   "execution_count": 1,
   "id": "de01b496",
   "metadata": {},
   "outputs": [],
   "source": [
    "import pandas as pd\n",
    "import numpy as np"
   ]
  },
  {
   "cell_type": "code",
   "execution_count": 2,
   "id": "1dbd968e",
   "metadata": {},
   "outputs": [
    {
     "data": {
      "text/plain": [
       "'1.4.3'"
      ]
     },
     "execution_count": 2,
     "metadata": {},
     "output_type": "execute_result"
    }
   ],
   "source": [
    "pd.__version__\n"
   ]
  },
  {
   "cell_type": "code",
   "execution_count": 3,
   "id": "3a6e8af3",
   "metadata": {},
   "outputs": [],
   "source": [
    "a_py = [10,20,30,40,50]"
   ]
  },
  {
   "cell_type": "code",
   "execution_count": 4,
   "id": "9603c109",
   "metadata": {},
   "outputs": [
    {
     "data": {
      "text/plain": [
       "list"
      ]
     },
     "execution_count": 4,
     "metadata": {},
     "output_type": "execute_result"
    }
   ],
   "source": [
    "type(a_py)"
   ]
  },
  {
   "cell_type": "code",
   "execution_count": 5,
   "id": "278e110a",
   "metadata": {},
   "outputs": [],
   "source": [
    "b_np = np.array([10,20,30,40,50])"
   ]
  },
  {
   "cell_type": "code",
   "execution_count": 6,
   "id": "0e208b3a",
   "metadata": {},
   "outputs": [
    {
     "data": {
      "text/plain": [
       "numpy.ndarray"
      ]
     },
     "execution_count": 6,
     "metadata": {},
     "output_type": "execute_result"
    }
   ],
   "source": [
    "type(b_np)"
   ]
  },
  {
   "cell_type": "markdown",
   "id": "42cfde29",
   "metadata": {},
   "source": [
    "Q- to multiply all numbers by 10"
   ]
  },
  {
   "cell_type": "markdown",
   "id": "382b6168",
   "metadata": {},
   "source": [
    "There are so many ways to do this:"
   ]
  },
  {
   "cell_type": "markdown",
   "id": "f2ae7e32",
   "metadata": {},
   "source": [
    "- For loop\n",
    "- Lambda expression\n",
    "- List Comprehension\n",
    "\n",
    "but, with numpy all we need to do is-"
   ]
  },
  {
   "cell_type": "code",
   "execution_count": 8,
   "id": "4919e44d",
   "metadata": {},
   "outputs": [
    {
     "data": {
      "text/plain": [
       "array([100, 200, 300, 400, 500])"
      ]
     },
     "execution_count": 8,
     "metadata": {},
     "output_type": "execute_result"
    }
   ],
   "source": [
    "b_np *10\n"
   ]
  },
  {
   "cell_type": "code",
   "execution_count": null,
   "id": "473ec3fc",
   "metadata": {},
   "outputs": [],
   "source": []
  }
 ],
 "metadata": {
  "kernelspec": {
   "display_name": "Python 3 (ipykernel)",
   "language": "python",
   "name": "python3"
  },
  "language_info": {
   "codemirror_mode": {
    "name": "ipython",
    "version": 3
   },
   "file_extension": ".py",
   "mimetype": "text/x-python",
   "name": "python",
   "nbconvert_exporter": "python",
   "pygments_lexer": "ipython3",
   "version": "3.9.12"
  }
 },
 "nbformat": 4,
 "nbformat_minor": 5
}
