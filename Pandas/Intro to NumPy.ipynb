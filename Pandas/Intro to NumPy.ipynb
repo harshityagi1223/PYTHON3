{
 "cells": [
  {
   "cell_type": "markdown",
   "id": "4f6f4a43",
   "metadata": {},
   "source": [
    "    An intro to NumPy:"
   ]
  },
  {
   "cell_type": "markdown",
   "id": "2401dfa6",
   "metadata": {},
   "source": [
    "- used by Pandas for datastructures\n",
    "- very quick operations\n",
    "- smaller memory foot print\n",
    "- better performance"
   ]
  },
  {
   "cell_type": "code",
   "execution_count": 1,
   "id": "3234a171",
   "metadata": {},
   "outputs": [],
   "source": [
    "import pandas as pd\n",
    "import numpy as np"
   ]
  },
  {
   "cell_type": "code",
   "execution_count": 2,
   "id": "9b73ea71",
   "metadata": {},
   "outputs": [
    {
     "data": {
      "text/plain": [
       "'1.4.3'"
      ]
     },
     "execution_count": 2,
     "metadata": {},
     "output_type": "execute_result"
    }
   ],
   "source": [
    "pd.__version__\n"
   ]
  },
  {
   "cell_type": "code",
   "execution_count": 3,
   "id": "b3034def",
   "metadata": {},
   "outputs": [],
   "source": [
    "a_py = [10,20,30,40,50]"
   ]
  },
  {
   "cell_type": "code",
   "execution_count": 4,
   "id": "2b0e774e",
   "metadata": {},
   "outputs": [
    {
     "data": {
      "text/plain": [
       "list"
      ]
     },
     "execution_count": 4,
     "metadata": {},
     "output_type": "execute_result"
    }
   ],
   "source": [
    "type(a_py)"
   ]
  },
  {
   "cell_type": "code",
   "execution_count": 5,
   "id": "c6211c10",
   "metadata": {},
   "outputs": [],
   "source": [
    "b_np = np.array([10,20,30,40,50])"
   ]
  },
  {
   "cell_type": "code",
   "execution_count": 6,
   "id": "79482715",
   "metadata": {},
   "outputs": [
    {
     "data": {
      "text/plain": [
       "numpy.ndarray"
      ]
     },
     "execution_count": 6,
     "metadata": {},
     "output_type": "execute_result"
    }
   ],
   "source": [
    "type(b_np)"
   ]
  },
  {
   "cell_type": "markdown",
   "id": "4234ab80",
   "metadata": {},
   "source": [
    "Q- to multiply all numbers by 10"
   ]
  },
  {
   "cell_type": "markdown",
   "id": "14569f0a",
   "metadata": {},
   "source": [
    "There are so many ways to do this:"
   ]
  },
  {
   "cell_type": "markdown",
   "id": "d5fc5173",
   "metadata": {},
   "source": [
    "- For loop\n",
    "- Lambda expression\n",
    "- List Comprehension\n",
    "\n",
    "but, with numpy all we need to do is-"
   ]
  },
  {
   "cell_type": "code",
   "execution_count": 8,
   "id": "4dca9871",
   "metadata": {},
   "outputs": [
    {
     "data": {
      "text/plain": [
       "array([100, 200, 300, 400, 500])"
      ]
     },
     "execution_count": 8,
     "metadata": {},
     "output_type": "execute_result"
    }
   ],
   "source": [
    "b_np *10\n"
   ]
  },
  {
   "cell_type": "markdown",
   "id": "e7b37c24",
   "metadata": {},
   "source": [
    "In NumPy, the data in an Array is stored in contiguous blocks of memory, which iss the reason behind better performance. In Lists, a pointer points to a array of memory address where the data is stored."
   ]
  },
  {
   "cell_type": "markdown",
   "id": "896fbd1a",
   "metadata": {},
   "source": [
    "In NumPy, array can have only one datatype, which is not the case with Lists."
   ]
  },
  {
   "cell_type": "markdown",
   "id": "6505cd1a",
   "metadata": {},
   "source": [
    "Numpy does implicit upcasting, by changing the data type of the array to support all the values entered. For Example. If we entered a floating value in the above array, it will change the datatype of all the values to Float."
   ]
  },
  {
   "cell_type": "code",
   "execution_count": null,
   "id": "c084881e",
   "metadata": {},
   "outputs": [],
   "source": []
  }
 ],
 "metadata": {
  "kernelspec": {
   "display_name": "Python 3 (ipykernel)",
   "language": "python",
   "name": "python3"
  },
  "language_info": {
   "codemirror_mode": {
    "name": "ipython",
    "version": 3
   },
   "file_extension": ".py",
   "mimetype": "text/x-python",
   "name": "python",
   "nbconvert_exporter": "python",
   "pygments_lexer": "ipython3",
   "version": "3.9.12"
  }
 },
 "nbformat": 4,
 "nbformat_minor": 5
}
