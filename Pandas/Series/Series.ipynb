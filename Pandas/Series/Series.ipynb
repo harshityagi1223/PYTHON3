{
 "cells": [
  {
   "cell_type": "markdown",
   "id": "ed338f7f-e4e6-483d-8dc5-c5ff9107e1e0",
   "metadata": {},
   "source": [
    "Series\n",
    "- one dimensional, labelled array, of any data types\n",
    "- sequence of values with associated labels"
   ]
  },
  {
   "cell_type": "code",
   "execution_count": 2,
   "id": "b60a029f-12f0-4593-956c-d1db29456ed6",
   "metadata": {},
   "outputs": [],
   "source": [
    "import pandas as pd"
   ]
  },
  {
   "cell_type": "code",
   "execution_count": 3,
   "id": "d2bcb729-1e17-4804-a613-6d69459c6212",
   "metadata": {},
   "outputs": [],
   "source": [
    "students = [\"langston\",\"sara\",\"abhi\"]"
   ]
  },
  {
   "cell_type": "code",
   "execution_count": 4,
   "id": "1b4d4321-112a-4884-80be-a0de6a941878",
   "metadata": {},
   "outputs": [
    {
     "data": {
      "text/plain": [
       "list"
      ]
     },
     "execution_count": 4,
     "metadata": {},
     "output_type": "execute_result"
    }
   ],
   "source": [
    "type(students)"
   ]
  },
  {
   "cell_type": "code",
   "execution_count": 5,
   "id": "76ac7b2e-b2dc-4001-aeb2-5968a648cde8",
   "metadata": {},
   "outputs": [
    {
     "data": {
      "text/plain": [
       "0    langston\n",
       "1        sara\n",
       "2        abhi\n",
       "dtype: object"
      ]
     },
     "execution_count": 5,
     "metadata": {},
     "output_type": "execute_result"
    }
   ],
   "source": [
    "pd.Series(students)"
   ]
  },
  {
   "cell_type": "code",
   "execution_count": 6,
   "id": "a43e0ae2-2d04-42c0-8380-3d8f61708f56",
   "metadata": {},
   "outputs": [],
   "source": [
    "ages = [27,8,10,10]"
   ]
  },
  {
   "cell_type": "code",
   "execution_count": 7,
   "id": "91162470-c155-41b8-8df5-79f80aa3dd87",
   "metadata": {},
   "outputs": [
    {
     "data": {
      "text/plain": [
       "0    27\n",
       "1     8\n",
       "2    10\n",
       "3    10\n",
       "dtype: int64"
      ]
     },
     "execution_count": 7,
     "metadata": {},
     "output_type": "execute_result"
    }
   ],
   "source": [
    "pd.Series(ages)"
   ]
  },
  {
   "cell_type": "code",
   "execution_count": 8,
   "id": "392c95f4-1545-4935-ac3c-4a40a127f7da",
   "metadata": {},
   "outputs": [],
   "source": [
    "heights = [100.1, 69.9, 30.5]"
   ]
  },
  {
   "cell_type": "code",
   "execution_count": 9,
   "id": "f48ddf02-3462-40b0-bba3-37fec18ce937",
   "metadata": {},
   "outputs": [
    {
     "data": {
      "text/plain": [
       "0    100.1\n",
       "1     69.9\n",
       "2     30.5\n",
       "dtype: float64"
      ]
     },
     "execution_count": 9,
     "metadata": {},
     "output_type": "execute_result"
    }
   ],
   "source": [
    "pd.Series(heights)"
   ]
  },
  {
   "cell_type": "code",
   "execution_count": 10,
   "id": "e50809f2-bcf8-4ebc-b1a5-c161410797b5",
   "metadata": {},
   "outputs": [],
   "source": [
    "mixed = [ 'a',10,{'mood':10}]"
   ]
  },
  {
   "cell_type": "code",
   "execution_count": 11,
   "id": "e1269140-4887-467b-92b1-6b02f5316c20",
   "metadata": {},
   "outputs": [
    {
     "data": {
      "text/plain": [
       "0               a\n",
       "1              10\n",
       "2    {'mood': 10}\n",
       "dtype: object"
      ]
     },
     "execution_count": 11,
     "metadata": {},
     "output_type": "execute_result"
    }
   ],
   "source": [
    "pd.Series(mixed)"
   ]
  },
  {
   "cell_type": "markdown",
   "id": "fa5b47c8-afac-4cdd-9abf-7d63ca6f7664",
   "metadata": {},
   "source": [
    "We can create a series from Dictionary as well."
   ]
  },
  {
   "cell_type": "code",
   "execution_count": 33,
   "id": "5266cd94-40b2-4fff-a530-6bf551879e45",
   "metadata": {},
   "outputs": [],
   "source": [
    "books = {0:\"fooled\",1:\"IKIGAI\",2:\"Alchemist\"}"
   ]
  },
  {
   "cell_type": "code",
   "execution_count": 34,
   "id": "b18e291a-569d-427c-9632-8619bbfd80e0",
   "metadata": {},
   "outputs": [],
   "source": [
    "dict_s= pd.Series(books)"
   ]
  },
  {
   "cell_type": "code",
   "execution_count": 35,
   "id": "02524769-e5c2-4486-a9c7-52efdfde65f9",
   "metadata": {},
   "outputs": [],
   "source": [
    "books_list = [\"fooled\",\"IKIGAI\",\"Alchemist\"]"
   ]
  },
  {
   "cell_type": "code",
   "execution_count": 36,
   "id": "6037dad7-7d7a-4ed3-b22b-4f4e65dd4a47",
   "metadata": {},
   "outputs": [],
   "source": [
    "list_s = pd.Series(books_list)"
   ]
  },
  {
   "cell_type": "code",
   "execution_count": 37,
   "id": "b3acfe89-e258-4a0f-8944-01ecde1b2ee2",
   "metadata": {},
   "outputs": [
    {
     "data": {
      "text/plain": [
       "True"
      ]
     },
     "execution_count": 37,
     "metadata": {},
     "output_type": "execute_result"
    }
   ],
   "source": [
    "list_s.equals(dict_s)"
   ]
  },
  {
   "cell_type": "code",
   "execution_count": 38,
   "id": "a0de63d7-16fe-4d6b-85c7-ab78310398ac",
   "metadata": {},
   "outputs": [
    {
     "data": {
      "text/plain": [
       "0       fooled\n",
       "1       IKIGAI\n",
       "2    Alchemist\n",
       "dtype: object"
      ]
     },
     "execution_count": 38,
     "metadata": {},
     "output_type": "execute_result"
    }
   ],
   "source": [
    "list_s"
   ]
  },
  {
   "cell_type": "code",
   "execution_count": 39,
   "id": "b380a578-8bdc-4627-9ad7-370dae6f69b3",
   "metadata": {},
   "outputs": [
    {
     "data": {
      "text/plain": [
       "0       fooled\n",
       "1       IKIGAI\n",
       "2    Alchemist\n",
       "dtype: object"
      ]
     },
     "execution_count": 39,
     "metadata": {},
     "output_type": "execute_result"
    }
   ],
   "source": [
    "dict_s"
   ]
  },
  {
   "cell_type": "code",
   "execution_count": null,
   "id": "dccd5837-8293-4f47-a007-a8450c1d2a9f",
   "metadata": {},
   "outputs": [],
   "source": []
  }
 ],
 "metadata": {
  "kernelspec": {
   "display_name": "Python 3 (ipykernel)",
   "language": "python",
   "name": "python3"
  },
  "language_info": {
   "codemirror_mode": {
    "name": "ipython",
    "version": 3
   },
   "file_extension": ".py",
   "mimetype": "text/x-python",
   "name": "python",
   "nbconvert_exporter": "python",
   "pygments_lexer": "ipython3",
   "version": "3.9.12"
  }
 },
 "nbformat": 4,
 "nbformat_minor": 5
}
