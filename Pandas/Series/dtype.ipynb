{
 "cells": [
  {
   "cell_type": "markdown",
   "id": "6a9166ff-7af8-4c2d-b8c1-6cb2e065f931",
   "metadata": {},
   "source": [
    "The .dtype attribute"
   ]
  },
  {
   "cell_type": "code",
   "execution_count": 1,
   "id": "d3da4c16-220f-4680-a5d1-08dad1ad83c0",
   "metadata": {},
   "outputs": [],
   "source": [
    "ages = [20,30,40]\n"
   ]
  },
  {
   "cell_type": "code",
   "execution_count": 2,
   "id": "8825b484-866b-43d0-8ee0-449789e6bbb5",
   "metadata": {},
   "outputs": [],
   "source": [
    "import pandas as pd"
   ]
  },
  {
   "cell_type": "code",
   "execution_count": 3,
   "id": "8db0ae5a-1115-4444-a181-ea01ab5797c7",
   "metadata": {},
   "outputs": [
    {
     "data": {
      "text/plain": [
       "0    20\n",
       "1    30\n",
       "2    40\n",
       "dtype: int64"
      ]
     },
     "execution_count": 3,
     "metadata": {},
     "output_type": "execute_result"
    }
   ],
   "source": [
    "pd.Series(ages)\n"
   ]
  },
  {
   "cell_type": "code",
   "execution_count": 5,
   "id": "84c910e3-593b-43e7-8a40-cdad251e0a13",
   "metadata": {},
   "outputs": [
    {
     "data": {
      "text/plain": [
       "0    20.0\n",
       "1    30.0\n",
       "2    40.0\n",
       "dtype: float64"
      ]
     },
     "execution_count": 5,
     "metadata": {},
     "output_type": "execute_result"
    }
   ],
   "source": [
    "pd.Series(ages, dtype = 'float')"
   ]
  },
  {
   "cell_type": "markdown",
   "id": "96a1f457-7a00-489e-b467-e799f060282b",
   "metadata": {},
   "source": [
    ".dtype helps to specify the Data Type of the series"
   ]
  },
  {
   "cell_type": "markdown",
   "id": "f7143336-73ec-49a7-a693-11a748a35fc7",
   "metadata": {},
   "source": [
    "We use .dtype as numpy expects homogenous data."
   ]
  },
  {
   "cell_type": "code",
   "execution_count": null,
   "id": "4b2597f1-3da4-435f-9ca6-eb86ed2dedb9",
   "metadata": {},
   "outputs": [],
   "source": []
  }
 ],
 "metadata": {
  "kernelspec": {
   "display_name": "Python 3 (ipykernel)",
   "language": "python",
   "name": "python3"
  },
  "language_info": {
   "codemirror_mode": {
    "name": "ipython",
    "version": 3
   },
   "file_extension": ".py",
   "mimetype": "text/x-python",
   "name": "python",
   "nbconvert_exporter": "python",
   "pygments_lexer": "ipython3",
   "version": "3.9.12"
  }
 },
 "nbformat": 4,
 "nbformat_minor": 5
}
