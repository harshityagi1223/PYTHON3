{
 "cells": [
  {
   "cell_type": "markdown",
   "id": "5ef96b9b-4206-4209-898c-e6af12df1a41",
   "metadata": {},
   "source": [
    "Index and RangeIndex"
   ]
  },
  {
   "cell_type": "code",
   "execution_count": 1,
   "id": "e5d3c63c-b1a5-4be0-b5d0-775a94ecc7dd",
   "metadata": {},
   "outputs": [],
   "source": [
    "import pandas as pd"
   ]
  },
  {
   "cell_type": "code",
   "execution_count": 2,
   "id": "46b1be9c-9658-4fc6-a289-f1d4ff39117f",
   "metadata": {},
   "outputs": [],
   "source": [
    "books = ['Fooled','Ikigai','Master']"
   ]
  },
  {
   "cell_type": "code",
   "execution_count": 3,
   "id": "291172b9-5dec-4836-bf33-f7d7f96bc926",
   "metadata": {},
   "outputs": [],
   "source": [
    "books_s = pd.Series(books)"
   ]
  },
  {
   "cell_type": "code",
   "execution_count": 4,
   "id": "76aafedc-6e56-4a71-8868-418af3c7e4dc",
   "metadata": {},
   "outputs": [
    {
     "data": {
      "text/plain": [
       "0    Fooled\n",
       "1    Ikigai\n",
       "2    Master\n",
       "dtype: object"
      ]
     },
     "execution_count": 4,
     "metadata": {},
     "output_type": "execute_result"
    }
   ],
   "source": [
    "books_s"
   ]
  },
  {
   "cell_type": "code",
   "execution_count": 8,
   "id": "d3627a70-67f0-4022-b923-3303544b10b2",
   "metadata": {},
   "outputs": [],
   "source": [
    "sbook = pd.Series(data = books, index=['funny','interesting','serious'],dtype='string')"
   ]
  },
  {
   "cell_type": "markdown",
   "id": "622843d1-6216-4117-bb5e-1fa854f83ace",
   "metadata": {},
   "source": [
    "index parameter is used to add meaningful labels to the series"
   ]
  },
  {
   "cell_type": "markdown",
   "id": "e9854510-3f29-473d-81c6-3d9f46535b1f",
   "metadata": {},
   "source": [
    "To check the type of index:"
   ]
  },
  {
   "cell_type": "code",
   "execution_count": 9,
   "id": "a5b37ec0-058e-4d65-9c1f-fbbb4ecad4c2",
   "metadata": {},
   "outputs": [
    {
     "data": {
      "text/plain": [
       "pandas.core.indexes.base.Index"
      ]
     },
     "execution_count": 9,
     "metadata": {},
     "output_type": "execute_result"
    }
   ],
   "source": [
    "type(sbook.index)"
   ]
  },
  {
   "cell_type": "code",
   "execution_count": 10,
   "id": "719a22ac-63e6-4e58-886f-cbf765035f1f",
   "metadata": {},
   "outputs": [
    {
     "data": {
      "text/plain": [
       "funny          Fooled\n",
       "interesting    Ikigai\n",
       "serious        Master\n",
       "dtype: string"
      ]
     },
     "execution_count": 10,
     "metadata": {},
     "output_type": "execute_result"
    }
   ],
   "source": [
    "sbook"
   ]
  },
  {
   "cell_type": "code",
   "execution_count": 11,
   "id": "06db1399-affc-407f-9e65-393906aa7c30",
   "metadata": {},
   "outputs": [
    {
     "data": {
      "text/plain": [
       "Index(['funny', 'interesting', 'serious'], dtype='object')"
      ]
     },
     "execution_count": 11,
     "metadata": {},
     "output_type": "execute_result"
    }
   ],
   "source": [
    "sbook.index"
   ]
  },
  {
   "cell_type": "code",
   "execution_count": 12,
   "id": "ef5af9b9-3600-498b-a22a-8a10c361a56d",
   "metadata": {},
   "outputs": [
    {
     "data": {
      "text/plain": [
       "RangeIndex(start=0, stop=3, step=1)"
      ]
     },
     "execution_count": 12,
     "metadata": {},
     "output_type": "execute_result"
    }
   ],
   "source": [
    "books_s.index"
   ]
  },
  {
   "cell_type": "code",
   "execution_count": 14,
   "id": "07f0fdc2-73c1-41c4-a7b1-6cd4d2a5bbed",
   "metadata": {},
   "outputs": [
    {
     "data": {
      "text/plain": [
       "[4, 5, 6]"
      ]
     },
     "execution_count": 14,
     "metadata": {},
     "output_type": "execute_result"
    }
   ],
   "source": [
    "list(pd.RangeIndex(start = 4, stop =7, step =1))"
   ]
  },
  {
   "cell_type": "markdown",
   "id": "81f935d3-b40b-44d6-afa8-36c6b7582c66",
   "metadata": {},
   "source": [
    "Let's create a series using range index-"
   ]
  },
  {
   "cell_type": "code",
   "execution_count": 15,
   "id": "0c8937f9-de4e-4cd5-868e-f22247afdd19",
   "metadata": {},
   "outputs": [],
   "source": [
    "age = [20,30,40]"
   ]
  },
  {
   "cell_type": "code",
   "execution_count": 17,
   "id": "20f87142-f0d2-416d-a905-3b5850c11f23",
   "metadata": {},
   "outputs": [
    {
     "data": {
      "text/plain": [
       "10    20\n",
       "20    30\n",
       "30    40\n",
       "dtype: int64"
      ]
     },
     "execution_count": 17,
     "metadata": {},
     "output_type": "execute_result"
    }
   ],
   "source": [
    "pd.Series(data = age, index = pd.RangeIndex(start =10,stop=40,step=10))"
   ]
  },
  {
   "cell_type": "markdown",
   "id": "93fa9b99-f3f7-40d0-9553-ff1340007840",
   "metadata": {},
   "source": [
    "Methods - function bound to object like equals() eg - age.equals(books), at this time equals is a method of object age"
   ]
  },
  {
   "cell_type": "markdown",
   "id": "ae707a69-7de3-4dd5-9420-e0190bb84c5f",
   "metadata": {},
   "source": [
    "Attributes - variable bound to object like size eg - list.size "
   ]
  },
  {
   "cell_type": "markdown",
   "id": "bba554a8-134b-4311-887a-b7e2be199a55",
   "metadata": {},
   "source": [
    "To add name to a series:"
   ]
  },
  {
   "cell_type": "code",
   "execution_count": 19,
   "id": "82dcc997-c118-4b60-9255-4af6a243b2c1",
   "metadata": {},
   "outputs": [],
   "source": [
    "b = pd.Series(data = age, index = pd.RangeIndex(start =10,stop=40,step=10))"
   ]
  },
  {
   "cell_type": "code",
   "execution_count": 20,
   "id": "817e967a-14dd-41b3-8426-b290ea7aa865",
   "metadata": {},
   "outputs": [],
   "source": [
    "b.name = \"Ages\""
   ]
  },
  {
   "cell_type": "code",
   "execution_count": 21,
   "id": "abd1f182-b117-4ebc-afc6-010e5e23b6d9",
   "metadata": {},
   "outputs": [
    {
     "data": {
      "text/plain": [
       "10    20\n",
       "20    30\n",
       "30    40\n",
       "Name: Ages, dtype: int64"
      ]
     },
     "execution_count": 21,
     "metadata": {},
     "output_type": "execute_result"
    }
   ],
   "source": [
    "b"
   ]
  },
  {
   "cell_type": "markdown",
   "id": "424917e5-f9ea-42dd-bef0-cdb03f866ce8",
   "metadata": {},
   "source": [
    "To add a name to index of series:"
   ]
  },
  {
   "cell_type": "code",
   "execution_count": 22,
   "id": "268c1c80-3983-4c6f-b6df-c699a77c0fb8",
   "metadata": {},
   "outputs": [],
   "source": [
    "b.index.name = \"Index of Ages\""
   ]
  },
  {
   "cell_type": "code",
   "execution_count": 23,
   "id": "e3fad808-ff2c-4285-8628-374522d8d083",
   "metadata": {},
   "outputs": [
    {
     "data": {
      "text/plain": [
       "Index of Ages\n",
       "10    20\n",
       "20    30\n",
       "30    40\n",
       "Name: Ages, dtype: int64"
      ]
     },
     "execution_count": 23,
     "metadata": {},
     "output_type": "execute_result"
    }
   ],
   "source": [
    "b"
   ]
  },
  {
   "cell_type": "code",
   "execution_count": null,
   "id": "1a546e52-ffaf-4010-bad5-9ae7df7cac71",
   "metadata": {},
   "outputs": [],
   "source": []
  }
 ],
 "metadata": {
  "kernelspec": {
   "display_name": "Python 3 (ipykernel)",
   "language": "python",
   "name": "python3"
  },
  "language_info": {
   "codemirror_mode": {
    "name": "ipython",
    "version": 3
   },
   "file_extension": ".py",
   "mimetype": "text/x-python",
   "name": "python",
   "nbconvert_exporter": "python",
   "pygments_lexer": "ipython3",
   "version": "3.9.12"
  }
 },
 "nbformat": 4,
 "nbformat_minor": 5
}
