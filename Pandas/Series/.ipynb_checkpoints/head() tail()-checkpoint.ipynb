{
 "cells": [
  {
   "cell_type": "code",
   "execution_count": 1,
   "id": "dd9fac84-225e-4122-9466-406e18ddccf6",
   "metadata": {},
   "outputs": [],
   "source": [
    "import pandas as pd"
   ]
  },
  {
   "cell_type": "code",
   "execution_count": 3,
   "id": "a048b2df-a93c-46e8-94c6-46a12db0ce00",
   "metadata": {},
   "outputs": [],
   "source": [
    "sample = pd.Series(range(1,60))"
   ]
  },
  {
   "cell_type": "code",
   "execution_count": 4,
   "id": "149207b2-44f3-4cc6-9703-358e4bcb4bf0",
   "metadata": {},
   "outputs": [
    {
     "data": {
      "text/plain": [
       "0      1\n",
       "1      2\n",
       "2      3\n",
       "3      4\n",
       "4      5\n",
       "5      6\n",
       "6      7\n",
       "7      8\n",
       "8      9\n",
       "9     10\n",
       "10    11\n",
       "11    12\n",
       "12    13\n",
       "13    14\n",
       "14    15\n",
       "15    16\n",
       "16    17\n",
       "17    18\n",
       "18    19\n",
       "19    20\n",
       "20    21\n",
       "21    22\n",
       "22    23\n",
       "23    24\n",
       "24    25\n",
       "25    26\n",
       "26    27\n",
       "27    28\n",
       "28    29\n",
       "29    30\n",
       "30    31\n",
       "31    32\n",
       "32    33\n",
       "33    34\n",
       "34    35\n",
       "35    36\n",
       "36    37\n",
       "37    38\n",
       "38    39\n",
       "39    40\n",
       "40    41\n",
       "41    42\n",
       "42    43\n",
       "43    44\n",
       "44    45\n",
       "45    46\n",
       "46    47\n",
       "47    48\n",
       "48    49\n",
       "49    50\n",
       "50    51\n",
       "51    52\n",
       "52    53\n",
       "53    54\n",
       "54    55\n",
       "55    56\n",
       "56    57\n",
       "57    58\n",
       "58    59\n",
       "dtype: int64"
      ]
     },
     "execution_count": 4,
     "metadata": {},
     "output_type": "execute_result"
    }
   ],
   "source": [
    "sample"
   ]
  },
  {
   "cell_type": "markdown",
   "id": "3431b6cb-57ff-4b17-ba9d-f069e98b5d6c",
   "metadata": {},
   "source": [
    "If in case we do not want to see the complete data of a series we use head() or tail()"
   ]
  },
  {
   "cell_type": "code",
   "execution_count": 5,
   "id": "5ec09766-be0a-4e05-baba-331608fe0bf6",
   "metadata": {},
   "outputs": [
    {
     "data": {
      "text/plain": [
       "0    1\n",
       "1    2\n",
       "2    3\n",
       "3    4\n",
       "4    5\n",
       "dtype: int64"
      ]
     },
     "execution_count": 5,
     "metadata": {},
     "output_type": "execute_result"
    }
   ],
   "source": [
    "sample.head()"
   ]
  },
  {
   "cell_type": "markdown",
   "id": "c6fecbdf-78da-489e-a484-c520e40636aa",
   "metadata": {},
   "source": [
    "Head() will return the top 5 values"
   ]
  },
  {
   "cell_type": "code",
   "execution_count": 6,
   "id": "bc468563-8d01-47ad-8d24-e1ac56bcf2c2",
   "metadata": {},
   "outputs": [
    {
     "data": {
      "text/plain": [
       "0    1\n",
       "1    2\n",
       "2    3\n",
       "dtype: int64"
      ]
     },
     "execution_count": 6,
     "metadata": {},
     "output_type": "execute_result"
    }
   ],
   "source": [
    "sample.head(3)"
   ]
  },
  {
   "cell_type": "markdown",
   "id": "285e40be-9fe8-4332-a6da-642106a75722",
   "metadata": {},
   "source": [
    "Head(n) will return the top n values"
   ]
  },
  {
   "cell_type": "code",
   "execution_count": 7,
   "id": "baeb23d6-7e17-4708-b917-2b8c554862a5",
   "metadata": {},
   "outputs": [
    {
     "data": {
      "text/plain": [
       "54    55\n",
       "55    56\n",
       "56    57\n",
       "57    58\n",
       "58    59\n",
       "dtype: int64"
      ]
     },
     "execution_count": 7,
     "metadata": {},
     "output_type": "execute_result"
    }
   ],
   "source": [
    "sample.tail()"
   ]
  },
  {
   "cell_type": "markdown",
   "id": "a235d85a-823a-4a9a-b101-488a92b508cd",
   "metadata": {},
   "source": [
    "tail() will return the bottom 5 values of the series."
   ]
  },
  {
   "cell_type": "code",
   "execution_count": 8,
   "id": "cf59e343-4ad8-43a7-9854-f364b7212d7c",
   "metadata": {},
   "outputs": [
    {
     "data": {
      "text/plain": [
       "55    56\n",
       "56    57\n",
       "57    58\n",
       "58    59\n",
       "dtype: int64"
      ]
     },
     "execution_count": 8,
     "metadata": {},
     "output_type": "execute_result"
    }
   ],
   "source": [
    "sample.tail(4)"
   ]
  },
  {
   "cell_type": "markdown",
   "id": "1c21f83d-deb8-4265-8370-9533be76efe6",
   "metadata": {},
   "source": [
    "tail(n) will return thee bottom n values."
   ]
  },
  {
   "cell_type": "code",
   "execution_count": 13,
   "id": "4945259f-6162-4414-9ef2-31764f8bbf3e",
   "metadata": {},
   "outputs": [
    {
     "data": {
      "text/plain": [
       "45    46\n",
       "46    47\n",
       "47    48\n",
       "48    49\n",
       "49    50\n",
       "50    51\n",
       "51    52\n",
       "52    53\n",
       "53    54\n",
       "54    55\n",
       "55    56\n",
       "56    57\n",
       "57    58\n",
       "58    59\n",
       "dtype: int64"
      ]
     },
     "execution_count": 13,
     "metadata": {},
     "output_type": "execute_result"
    }
   ],
   "source": [
    "sample.tail(-45)"
   ]
  },
  {
   "cell_type": "code",
   "execution_count": null,
   "id": "dc2713a2-21fc-49ac-941c-697fe88ae6d3",
   "metadata": {},
   "outputs": [],
   "source": []
  }
 ],
 "metadata": {
  "kernelspec": {
   "display_name": "Python 3 (ipykernel)",
   "language": "python",
   "name": "python3"
  },
  "language_info": {
   "codemirror_mode": {
    "name": "ipython",
    "version": 3
   },
   "file_extension": ".py",
   "mimetype": "text/x-python",
   "name": "python",
   "nbconvert_exporter": "python",
   "pygments_lexer": "ipython3",
   "version": "3.9.12"
  }
 },
 "nbformat": 4,
 "nbformat_minor": 5
}
