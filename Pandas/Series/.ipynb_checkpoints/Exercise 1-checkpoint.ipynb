{
 "cells": [
  {
   "cell_type": "markdown",
   "id": "fc2a2a30-dd13-4b6c-bd77-d83570140584",
   "metadata": {},
   "source": [
    "P1 - Create a python list of length 4 that contains the name of your fav actors and assign it to actor_names."
   ]
  },
  {
   "cell_type": "markdown",
   "id": "c2ac1fd4-49f8-4550-9194-6bf0e363c6d7",
   "metadata": {},
   "source": [
    "Solution-"
   ]
  },
  {
   "cell_type": "code",
   "execution_count": 1,
   "id": "b5c50c0a-48c9-4133-9a5a-8bd329273e3f",
   "metadata": {},
   "outputs": [],
   "source": [
    "actor_names = ['Shahid','SRK','Amir','Farhan']"
   ]
  },
  {
   "cell_type": "markdown",
   "id": "b4a73ed9-2742-42f9-be2a-467e612fde0b",
   "metadata": {},
   "source": [
    "P2 - Create another same length python list of the ages of these actors and assign it to actor_ages."
   ]
  },
  {
   "cell_type": "markdown",
   "id": "cec9beda-53e6-4721-8517-98f4ebe0164c",
   "metadata": {},
   "source": [
    "Solution-"
   ]
  },
  {
   "cell_type": "code",
   "execution_count": 2,
   "id": "7806a8ba-cb2b-4251-9cfb-58542a294db5",
   "metadata": {},
   "outputs": [],
   "source": [
    "actor_ages = [35,32,23,21]"
   ]
  },
  {
   "cell_type": "markdown",
   "id": "683bf09b-38a1-466f-8242-22b510928af6",
   "metadata": {},
   "source": [
    "P3 - Create a series using actor_names as index and actor_ages as values and name it actors."
   ]
  },
  {
   "cell_type": "markdown",
   "id": "d5faed83-da1d-4ef1-abd8-bda72fb1982f",
   "metadata": {},
   "source": [
    "Solution-"
   ]
  },
  {
   "cell_type": "code",
   "execution_count": 3,
   "id": "56a52e09-f53f-419b-8b2b-8bd9792ff73e",
   "metadata": {},
   "outputs": [],
   "source": [
    "import pandas as pd"
   ]
  },
  {
   "cell_type": "code",
   "execution_count": 5,
   "id": "de64d9e4-9aa2-49fb-81e9-143807eff3b4",
   "metadata": {},
   "outputs": [],
   "source": [
    "actors = pd.Series(data = actor_ages, index = actor_names)"
   ]
  },
  {
   "cell_type": "code",
   "execution_count": 6,
   "id": "8f768e49-dcb5-464c-8c2a-a9bafdb84466",
   "metadata": {},
   "outputs": [
    {
     "data": {
      "text/plain": [
       "Shahid    35\n",
       "SRK       32\n",
       "Amir      23\n",
       "Farhan    21\n",
       "dtype: int64"
      ]
     },
     "execution_count": 6,
     "metadata": {},
     "output_type": "execute_result"
    }
   ],
   "source": [
    "actors"
   ]
  },
  {
   "cell_type": "code",
   "execution_count": 7,
   "id": "962070b3-2419-460a-9aa1-7d132efb6079",
   "metadata": {},
   "outputs": [],
   "source": [
    "actors.name = 'actors'"
   ]
  },
  {
   "cell_type": "code",
   "execution_count": 9,
   "id": "725e0e2d-ddc7-447c-9b0c-ea2d74500059",
   "metadata": {},
   "outputs": [
    {
     "data": {
      "text/plain": [
       "Shahid    35\n",
       "SRK       32\n",
       "Amir      23\n",
       "Farhan    21\n",
       "Name: actors, dtype: int64"
      ]
     },
     "execution_count": 9,
     "metadata": {},
     "output_type": "execute_result"
    }
   ],
   "source": [
    "actors"
   ]
  },
  {
   "cell_type": "markdown",
   "id": "fb933239-39f4-43f3-99e9-fa07dd8d91ad",
   "metadata": {},
   "source": [
    "P4 - Repeat same steps with dictionary"
   ]
  },
  {
   "cell_type": "markdown",
   "id": "547c1f98-1443-4b43-bb56-87097f791e9a",
   "metadata": {},
   "source": [
    "Solution-"
   ]
  },
  {
   "cell_type": "code",
   "execution_count": 10,
   "id": "6c3b39e2-322a-4749-b210-5d5c23168954",
   "metadata": {},
   "outputs": [],
   "source": [
    "act = {'Shahid':35,'SRK':32,'Amir':23,'Farhan':21}"
   ]
  },
  {
   "cell_type": "code",
   "execution_count": 12,
   "id": "11b00653-77c1-4e5a-add5-54b073a89c28",
   "metadata": {},
   "outputs": [],
   "source": [
    "acts = pd.Series(act)"
   ]
  },
  {
   "cell_type": "code",
   "execution_count": 13,
   "id": "017d2c4d-7fe7-482c-91c6-5e10a9b5a6bb",
   "metadata": {},
   "outputs": [],
   "source": [
    "acts.name = 'Actors'"
   ]
  },
  {
   "cell_type": "code",
   "execution_count": 14,
   "id": "389f62b1-a585-4103-ad64-dbce4944310a",
   "metadata": {},
   "outputs": [
    {
     "data": {
      "text/plain": [
       "Shahid    35\n",
       "SRK       32\n",
       "Amir      23\n",
       "Farhan    21\n",
       "Name: Actors, dtype: int64"
      ]
     },
     "execution_count": 14,
     "metadata": {},
     "output_type": "execute_result"
    }
   ],
   "source": [
    "acts"
   ]
  },
  {
   "cell_type": "code",
   "execution_count": null,
   "id": "ba30a7f7-8b99-4ebb-b0da-abd1c3b62d92",
   "metadata": {},
   "outputs": [],
   "source": []
  }
 ],
 "metadata": {
  "kernelspec": {
   "display_name": "Python 3 (ipykernel)",
   "language": "python",
   "name": "python3"
  },
  "language_info": {
   "codemirror_mode": {
    "name": "ipython",
    "version": 3
   },
   "file_extension": ".py",
   "mimetype": "text/x-python",
   "name": "python",
   "nbconvert_exporter": "python",
   "pygments_lexer": "ipython3",
   "version": "3.9.12"
  }
 },
 "nbformat": 4,
 "nbformat_minor": 5
}
