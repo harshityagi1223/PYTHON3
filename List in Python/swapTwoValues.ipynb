{
 "cells": [
  {
   "cell_type": "markdown",
   "id": "8d201c3b-2dfc-4739-8786-393b734620b4",
   "metadata": {},
   "source": [
    "Python program to swap two elements in a list"
   ]
  },
  {
   "cell_type": "code",
   "execution_count": 1,
   "id": "d941b62d-4dcb-4501-8e25-a8a24dafa2e7",
   "metadata": {},
   "outputs": [
    {
     "name": "stdout",
     "output_type": "stream",
     "text": [
      "[1, 2, 3, 6, 5, 4, 7]\n"
     ]
    }
   ],
   "source": [
    "from typing import List\n",
    "class Solution:\n",
    "    def swap(nums : List[int], pos1 : int, pos2 : int):\n",
    "        nums[pos1],nums[pos2] =nums[pos2],nums[pos1]\n",
    "        print(nums)\n",
    "Solution.swap([1,2,3,4,5,6,7],3,5)"
   ]
  },
  {
   "cell_type": "code",
   "execution_count": null,
   "id": "ceed2a99-e9be-4197-8137-d1cd3691d2f5",
   "metadata": {},
   "outputs": [],
   "source": []
  }
 ],
 "metadata": {
  "kernelspec": {
   "display_name": "Python 3 (ipykernel)",
   "language": "python",
   "name": "python3"
  },
  "language_info": {
   "codemirror_mode": {
    "name": "ipython",
    "version": 3
   },
   "file_extension": ".py",
   "mimetype": "text/x-python",
   "name": "python",
   "nbconvert_exporter": "python",
   "pygments_lexer": "ipython3",
   "version": "3.9.12"
  }
 },
 "nbformat": 4,
 "nbformat_minor": 5
}
